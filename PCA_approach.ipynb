{
 "cells": [
  {
   "cell_type": "code",
   "execution_count": 1,
   "metadata": {},
   "outputs": [],
   "source": [
    "import csv\n",
    "import numpy as np\n",
    "from sklearn.preprocessing import normalize\n",
    "from sklearn.decomposition import PCA\n",
    "from sklearn.model_selection import train_test_split\n",
    "import matplotlib.pyplot as plt\n",
    "import os"
   ]
  },
  {
   "cell_type": "markdown",
   "metadata": {},
   "source": [
    "## Reading in the Data"
   ]
  },
  {
   "cell_type": "code",
   "execution_count": 2,
   "metadata": {},
   "outputs": [],
   "source": [
    "path_f=os.getcwd()\n",
    "\n",
    "path_f_1=os.path.join(path_f, 'data')\n",
    "\n",
    "\n",
    "names=[]\n",
    "for files_txts in os.listdir(path_f_1):\n",
    "    if files_txts.endswith(\".csv\"):\n",
    "        #print(files_txts)\n",
    "        names.append(files_txts)\n",
    "        \n",
    "path_train=os.path.join(path_f_1, names[0])\n",
    "path_test=os.path.join(path_f_1, names[1])"
   ]
  },
  {
   "cell_type": "code",
   "execution_count": 3,
   "metadata": {},
   "outputs": [],
   "source": [
    "csvfile = csv.reader(open(path_train,'r'))\n",
    "header = next(csvfile)"
   ]
  },
  {
   "cell_type": "markdown",
   "metadata": {},
   "source": [
    "### Feature Engineering and Data Formatting"
   ]
  },
  {
   "cell_type": "code",
   "execution_count": 4,
   "metadata": {},
   "outputs": [],
   "source": [
    "data = []\n",
    "formulaA = []\n",
    "formulaB = []\n",
    "stabilityVec = []\n",
    "for row in csvfile:\n",
    "    formulaA.append(row[0])\n",
    "    formulaB.append(row[1])\n",
    "    data.append(np.array([np.float(x) for x in row[2:-1]]))\n",
    "    stabilityVec.append(np.array([np.float(x) for x in row[-1][1:-1].split(',')]))\n",
    "\n",
    "stabilityVec = np.array(stabilityVec)\n",
    "\n",
    "formulas = formulaA + formulaB\n",
    "formulas = list(set(formulas))"
   ]
  },
  {
   "cell_type": "code",
   "execution_count": 5,
   "metadata": {},
   "outputs": [
    {
     "data": {
      "text/plain": [
       "82"
      ]
     },
     "execution_count": 5,
     "metadata": {},
     "output_type": "execute_result"
    }
   ],
   "source": [
    "len(formulas)"
   ]
  },
  {
   "cell_type": "code",
   "execution_count": 6,
   "metadata": {},
   "outputs": [
    {
     "name": "stdout",
     "output_type": "stream",
     "text": [
      "(2572, 11)\n"
     ]
    }
   ],
   "source": [
    "print(stabilityVec.shape)"
   ]
  },
  {
   "cell_type": "markdown",
   "metadata": {},
   "source": [
    "Transforming the formula to and integer and saving it as a dictionary"
   ]
  },
  {
   "cell_type": "code",
   "execution_count": 7,
   "metadata": {},
   "outputs": [],
   "source": [
    "formula2int = {}\n",
    "int2formula = {}\n",
    "for i, f in enumerate(formulas):\n",
    "    formula2int[f] = i\n",
    "    int2formula[i] = f"
   ]
  },
  {
   "cell_type": "code",
   "execution_count": 8,
   "metadata": {},
   "outputs": [],
   "source": [
    "formulaAint = np.array([formula2int[x] for x in formulaA])\n",
    "formulaBint = np.array([formula2int[x] for x in formulaB])\n"
   ]
  },
  {
   "cell_type": "code",
   "execution_count": 9,
   "metadata": {},
   "outputs": [
    {
     "data": {
      "text/plain": [
       "array([ 3, 27, 59, 55, 69, 57, 54, 17, 78, 52])"
      ]
     },
     "execution_count": 9,
     "metadata": {},
     "output_type": "execute_result"
    }
   ],
   "source": [
    "formulaBint[:10]"
   ]
  },
  {
   "cell_type": "code",
   "execution_count": 10,
   "metadata": {},
   "outputs": [],
   "source": [
    "data = np.array(data)\n",
    "data = np.concatenate((formulaAint[:,None], formulaBint[:,None], data), axis=1)"
   ]
  },
  {
   "cell_type": "code",
   "execution_count": 11,
   "metadata": {},
   "outputs": [
    {
     "data": {
      "text/plain": [
       "(2572, 98)"
      ]
     },
     "execution_count": 11,
     "metadata": {},
     "output_type": "execute_result"
    }
   ],
   "source": [
    "data.shape"
   ]
  },
  {
   "cell_type": "markdown",
   "metadata": {},
   "source": [
    "#### Normalizing the data"
   ]
  },
  {
   "cell_type": "code",
   "execution_count": 12,
   "metadata": {},
   "outputs": [
    {
     "name": "stdout",
     "output_type": "stream",
     "text": [
      "(2572, 98)\n"
     ]
    }
   ],
   "source": [
    "data = normalize(data, axis=1)\n",
    "print(data.shape)"
   ]
  },
  {
   "cell_type": "markdown",
   "metadata": {},
   "source": [
    "## Performing PCA"
   ]
  },
  {
   "cell_type": "code",
   "execution_count": 13,
   "metadata": {},
   "outputs": [
    {
     "name": "stdout",
     "output_type": "stream",
     "text": [
      "top 10 explained variance:  [0.0958402  0.0845277  0.05184506 0.04871555 0.03646003 0.01696566\n",
      " 0.01548111 0.00906683 0.00633603 0.0019555 ]\n"
     ]
    }
   ],
   "source": [
    "pca = PCA()\n",
    "pca.fit(data)\n",
    "\n",
    "explained_var = pca.explained_variance_\n",
    "print('top 10 explained variance: ', explained_var[:10])\n",
    "\n",
    "components = pca.components_[:10,:]"
   ]
  },
  {
   "cell_type": "code",
   "execution_count": 14,
   "metadata": {},
   "outputs": [
    {
     "data": {
      "image/png": "[encoded data removed]",
      "text/plain": [
       "<matplotlib.figure.Figure at 0x10d46b2e8>"
      ]
     },
     "metadata": {},
     "output_type": "display_data"
    }
   ],
   "source": [
    "plt.plot(np.cumsum(pca.explained_variance_ratio_))\n",
    "plt.xlabel('number of components')\n",
    "plt.ylabel('cumulative explained variance');"
   ]
  },
  {
   "cell_type": "markdown",
   "metadata": {},
   "source": [
    "### Visualizing PCA"
   ]
  },
  {
   "cell_type": "code",
   "execution_count": 15,
   "metadata": {},
   "outputs": [
    {
     "data": {
      "text/plain": [
       "<matplotlib.legend.Legend at 0x108a3b7f0>"
      ]
     },
     "execution_count": 15,
     "metadata": {},
     "output_type": "execute_result"
    },
    {
     "data": {
      "image/png": "[encoded data removed]",
      "text/plain": [
       "<matplotlib.figure.Figure at 0x1089784e0>"
      ]
     },
     "metadata": {},
     "output_type": "display_data"
    }
   ],
   "source": [
    "new_data = np.dot(data, components.T)\n",
    "\n",
    "indexes_0 = stabilityVec[:,1]==0.0\n",
    "indexes_1 = stabilityVec[:,1]==1.0\n",
    "plt.plot(new_data[indexes_0,0], new_data[indexes_0,1], 'b.', linestyle='', label='0')\n",
    "plt.plot(new_data[indexes_1,0], new_data[indexes_1,1], 'r.', linestyle='', label='1')\n",
    "plt.title('visualization of the first class of the stability Vec on the two main components.')\n",
    "plt.legend()"
   ]
  },
  {
   "cell_type": "code",
   "execution_count": 16,
   "metadata": {},
   "outputs": [
    {
     "name": "stdout",
     "output_type": "stream",
     "text": [
      "(2572, 10)\n"
     ]
    }
   ],
   "source": [
    "new_data = np.dot(data, components.T)\n",
    "print(new_data.shape)\n"
   ]
  },
  {
   "cell_type": "code",
   "execution_count": null,
   "metadata": {},
   "outputs": [],
   "source": []
  },
  {
   "cell_type": "code",
   "execution_count": null,
   "metadata": {},
   "outputs": [],
   "source": []
  },
  {
   "cell_type": "markdown",
   "metadata": {},
   "source": [
    "## Notice how each of the compunds is always a stable output of the reaction\n",
    "    There is no need for a model these values then\n",
    "    We only need to predict the compounds that for from 10% to 90%"
   ]
  },
  {
   "cell_type": "code",
   "execution_count": 17,
   "metadata": {},
   "outputs": [
    {
     "name": "stdout",
     "output_type": "stream",
     "text": [
      "class  0    (array([2522,   50]), array([0. , 0.5, 1. ]))\n",
      "class  1    (array([2484,   88]), array([0. , 0.5, 1. ]))\n",
      "class  2    (array([1974,  598]), array([0. , 0.5, 1. ]))\n",
      "class  3    (array([2396,  176]), array([0. , 0.5, 1. ]))\n",
      "class  4    (array([1988,  584]), array([0. , 0.5, 1. ]))\n",
      "class  5    (array([2387,  185]), array([0. , 0.5, 1. ]))\n",
      "class  6    (array([2212,  360]), array([0. , 0.5, 1. ]))\n",
      "class  7    (array([2180,  392]), array([0. , 0.5, 1. ]))\n",
      "class  8    (array([2512,   60]), array([0. , 0.5, 1. ]))\n"
     ]
    }
   ],
   "source": [
    "for i in range(9):\n",
    "    print('class ', i, '  ', np.histogram(stabilityVec[:,i+1], bins=2))"
   ]
  },
  {
   "cell_type": "markdown",
   "metadata": {},
   "source": [
    "# Multi-label classification problem\n"
   ]
  },
  {
   "cell_type": "code",
   "execution_count": 25,
   "metadata": {},
   "outputs": [],
   "source": [
    "y_true = stabilityVec[:,1:-1]\n",
    "X_train, X_test, y_train, y_test = train_test_split(new_data, y_true,\n",
    "                                                    test_size=0.33,\n",
    "                                                    shuffle=True,\n",
    "                                                    random_state=42)"
   ]
  },
  {
   "cell_type": "markdown",
   "metadata": {},
   "source": [
    "## KNN Classifier test"
   ]
  },
  {
   "cell_type": "code",
   "execution_count": 26,
   "metadata": {},
   "outputs": [
    {
     "name": "stdout",
     "output_type": "stream",
     "text": [
      " -- KNN --\n",
      "precision:  0.5461165048543689   recall:  0.27743526510480887   F1:  0.3679476696647588   accuracy:  0.8988352309907081\n"
     ]
    }
   ],
   "source": [
    "print(' -- KNN --')\n",
    "from sklearn.neighbors import KNeighborsClassifier\n",
    "from sklearn.metrics import precision_score\n",
    "from sklearn.metrics import recall_score\n",
    "from sklearn.metrics import f1_score\n",
    "\n",
    "knn = KNeighborsClassifier(n_neighbors=5)\n",
    "knn.fit(X_train, y_train)\n",
    "y_pred = knn.predict(X_test)\n",
    "precision = precision_score(y_test, y_pred, average='micro')\n",
    "recall = recall_score(y_test, y_pred, average='micro')\n",
    "F1 = f1_score(y_test, y_pred, average='micro')\n",
    "\n",
    "accuracy = np.mean((y_test == y_pred))\n",
    "\n",
    "\n",
    "print('precision: ', precision, '  recall: ', recall, '  F1: ', F1, '  accuracy: ', accuracy)"
   ]
  },
  {
   "cell_type": "markdown",
   "metadata": {},
   "source": [
    "## Random Forest Test"
   ]
  },
  {
   "cell_type": "code",
   "execution_count": 23,
   "metadata": {},
   "outputs": [
    {
     "name": "stdout",
     "output_type": "stream",
     "text": [
      " -- Random Forest --\n",
      "precision:  0.8798586572438163   recall:  0.8798586572438163   F1:  0.8798586572438164   accuracy:  0.8798586572438163\n"
     ]
    }
   ],
   "source": [
    "print(' -- Random Forest --')\n",
    "from sklearn.ensemble import RandomForestClassifier\n",
    "#rfc = RandomForestClassifier(n_estimators=100, max_depth=5, random_state=0, class_weight=[{0:0.01, 1:0.99},{0:0.01, 1:0.99},{0:0.01, 1:0.99},{0:0.01, 1:0.99},{0:0.01, 1:0.99},{0:0.01, 1:0.99},{0:0.01, 1:0.99},{0:0.01, 1:0.99},{0:0.01, 1:0.99}])\n",
    "\n",
    "rfc = RandomForestClassifier(n_estimators=100, max_depth=5, random_state=0, class_weight={0:0.01, 1:0.99})\n",
    "rfc.fit(X_train, y_train)\n",
    "y_pred = rfc.predict(X_test)\n",
    "precision = precision_score(y_test, y_pred, average='micro')\n",
    "recall = recall_score(y_test, y_pred, average='micro')\n",
    "F1 = f1_score(y_test, y_pred, average='micro')\n",
    "\n",
    "accuracy = np.mean((y_test == y_pred))\n",
    "\n",
    "print('precision: ', precision, '  recall: ', recall, '  F1: ', F1, '  accuracy: ', accuracy)\n",
    "\n"
   ]
  },
  {
   "cell_type": "code",
   "execution_count": 24,
   "metadata": {},
   "outputs": [
    {
     "name": "stdout",
     "output_type": "stream",
     "text": [
      "[[743  92]\n",
      " [ 10   4]]\n"
     ]
    }
   ],
   "source": [
    "from sklearn import metrics\n",
    "#Confusion Metric\n",
    "confusion = metrics.confusion_matrix(y_test, y_pred)\n",
    "print(confusion)\n"
   ]
  },
  {
   "cell_type": "code",
   "execution_count": null,
   "metadata": {},
   "outputs": [],
   "source": []
  },
  {
   "cell_type": "code",
   "execution_count": null,
   "metadata": {},
   "outputs": [],
   "source": []
  }
 ],
 "metadata": {
  "kernelspec": {
   "display_name": "Python 3",
   "language": "python",
   "name": "python3"
  },
  "language_info": {
   "codemirror_mode": {
    "name": "ipython",
    "version": 3
   },
   "file_extension": ".py",
   "mimetype": "text/x-python",
   "name": "python",
   "nbconvert_exporter": "python",
   "pygments_lexer": "ipython3",
   "version": "3.6.4"
  }
 },
 "nbformat": 4,
 "nbformat_minor": 2
}
