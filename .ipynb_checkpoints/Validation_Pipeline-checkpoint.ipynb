{
 "cells": [
  {
   "cell_type": "code",
   "execution_count": 20,
   "metadata": {},
   "outputs": [],
   "source": [
    "import glob\n",
    "import os\n",
    "import pandas as pd\n",
    "import matplotlib.pyplot as plt\n",
    "\n",
    "import csv\n",
    "import numpy as np\n",
    "\n",
    "\n",
    "from sklearn.decomposition import PCA\n",
    "from sklearn.model_selection import train_test_split\n",
    "\n",
    "import os\n",
    "\n",
    "import scores\n",
    "from sklearn.externals import joblib\n",
    "import pickle"
   ]
  },
  {
   "cell_type": "markdown",
   "metadata": {},
   "source": [
    "## Loading the Validation Data"
   ]
  },
  {
   "cell_type": "code",
   "execution_count": 120,
   "metadata": {},
   "outputs": [
    {
     "name": "stdout",
     "output_type": "stream",
     "text": [
      "(749, 98)\n"
     ]
    },
    {
     "data": {
      "text/html": [
       "<div>\n",
       "<style scoped>\n",
       "    .dataframe tbody tr th:only-of-type {\n",
       "        vertical-align: middle;\n",
       "    }\n",
       "\n",
       "    .dataframe tbody tr th {\n",
       "        vertical-align: top;\n",
       "    }\n",
       "\n",
       "    .dataframe thead th {\n",
       "        text-align: right;\n",
       "    }\n",
       "</style>\n",
       "<table border=\"1\" class=\"dataframe\">\n",
       "  <thead>\n",
       "    <tr style=\"text-align: right;\">\n",
       "      <th></th>\n",
       "      <th>formulaA</th>\n",
       "      <th>formulaB</th>\n",
       "      <th>formulaA_elements_AtomicVolume</th>\n",
       "      <th>formulaB_elements_AtomicVolume</th>\n",
       "      <th>formulaA_elements_AtomicWeight</th>\n",
       "      <th>formulaB_elements_AtomicWeight</th>\n",
       "      <th>formulaA_elements_BoilingT</th>\n",
       "      <th>formulaB_elements_BoilingT</th>\n",
       "      <th>formulaA_elements_BulkModulus</th>\n",
       "      <th>formulaB_elements_BulkModulus</th>\n",
       "      <th>...</th>\n",
       "      <th>formulaA_elements_Row</th>\n",
       "      <th>formulaB_elements_Row</th>\n",
       "      <th>formulaA_elements_ShearModulus</th>\n",
       "      <th>formulaB_elements_ShearModulus</th>\n",
       "      <th>formulaA_elements_SpaceGroupNumber</th>\n",
       "      <th>formulaB_elements_SpaceGroupNumber</th>\n",
       "      <th>avg_coordination_A</th>\n",
       "      <th>avg_coordination_B</th>\n",
       "      <th>avg_nearest_neighbor_distance_A</th>\n",
       "      <th>avg_nearest_neighbor_distance_B</th>\n",
       "    </tr>\n",
       "  </thead>\n",
       "  <tbody>\n",
       "    <tr>\n",
       "      <th>0</th>\n",
       "      <td>89</td>\n",
       "      <td>4</td>\n",
       "      <td>37.433086</td>\n",
       "      <td>8.098176</td>\n",
       "      <td>227.0</td>\n",
       "      <td>9.012182</td>\n",
       "      <td>3473.0</td>\n",
       "      <td>2743.0</td>\n",
       "      <td>0.0</td>\n",
       "      <td>130.0</td>\n",
       "      <td>...</td>\n",
       "      <td>7</td>\n",
       "      <td>2</td>\n",
       "      <td>0.0</td>\n",
       "      <td>132.0</td>\n",
       "      <td>225</td>\n",
       "      <td>194</td>\n",
       "      <td>12.0</td>\n",
       "      <td>12.0</td>\n",
       "      <td>3.99462</td>\n",
       "      <td>2.20087</td>\n",
       "    </tr>\n",
       "    <tr>\n",
       "      <th>1</th>\n",
       "      <td>89</td>\n",
       "      <td>48</td>\n",
       "      <td>37.433086</td>\n",
       "      <td>21.580025</td>\n",
       "      <td>227.0</td>\n",
       "      <td>112.411000</td>\n",
       "      <td>3473.0</td>\n",
       "      <td>1040.0</td>\n",
       "      <td>0.0</td>\n",
       "      <td>42.0</td>\n",
       "      <td>...</td>\n",
       "      <td>7</td>\n",
       "      <td>5</td>\n",
       "      <td>0.0</td>\n",
       "      <td>19.0</td>\n",
       "      <td>225</td>\n",
       "      <td>194</td>\n",
       "      <td>12.0</td>\n",
       "      <td>6.0</td>\n",
       "      <td>3.99462</td>\n",
       "      <td>3.00785</td>\n",
       "    </tr>\n",
       "    <tr>\n",
       "      <th>2</th>\n",
       "      <td>89</td>\n",
       "      <td>55</td>\n",
       "      <td>37.433086</td>\n",
       "      <td>117.456016</td>\n",
       "      <td>227.0</td>\n",
       "      <td>132.905452</td>\n",
       "      <td>3473.0</td>\n",
       "      <td>944.0</td>\n",
       "      <td>0.0</td>\n",
       "      <td>1.6</td>\n",
       "      <td>...</td>\n",
       "      <td>7</td>\n",
       "      <td>6</td>\n",
       "      <td>0.0</td>\n",
       "      <td>0.0</td>\n",
       "      <td>225</td>\n",
       "      <td>229</td>\n",
       "      <td>12.0</td>\n",
       "      <td>8.0</td>\n",
       "      <td>3.99462</td>\n",
       "      <td>5.32395</td>\n",
       "    </tr>\n",
       "    <tr>\n",
       "      <th>3</th>\n",
       "      <td>89</td>\n",
       "      <td>67</td>\n",
       "      <td>37.433086</td>\n",
       "      <td>31.140380</td>\n",
       "      <td>227.0</td>\n",
       "      <td>164.930320</td>\n",
       "      <td>3473.0</td>\n",
       "      <td>2973.0</td>\n",
       "      <td>0.0</td>\n",
       "      <td>40.0</td>\n",
       "      <td>...</td>\n",
       "      <td>7</td>\n",
       "      <td>6</td>\n",
       "      <td>0.0</td>\n",
       "      <td>26.0</td>\n",
       "      <td>225</td>\n",
       "      <td>194</td>\n",
       "      <td>12.0</td>\n",
       "      <td>12.0</td>\n",
       "      <td>3.99462</td>\n",
       "      <td>3.48112</td>\n",
       "    </tr>\n",
       "    <tr>\n",
       "      <th>4</th>\n",
       "      <td>89</td>\n",
       "      <td>19</td>\n",
       "      <td>37.433086</td>\n",
       "      <td>75.847865</td>\n",
       "      <td>227.0</td>\n",
       "      <td>39.098300</td>\n",
       "      <td>3473.0</td>\n",
       "      <td>1032.0</td>\n",
       "      <td>0.0</td>\n",
       "      <td>3.1</td>\n",
       "      <td>...</td>\n",
       "      <td>7</td>\n",
       "      <td>4</td>\n",
       "      <td>0.0</td>\n",
       "      <td>1.3</td>\n",
       "      <td>225</td>\n",
       "      <td>229</td>\n",
       "      <td>12.0</td>\n",
       "      <td>8.0</td>\n",
       "      <td>3.99462</td>\n",
       "      <td>4.57083</td>\n",
       "    </tr>\n",
       "  </tbody>\n",
       "</table>\n",
       "<p>5 rows × 98 columns</p>\n",
       "</div>"
      ],
      "text/plain": [
       "   formulaA  formulaB  formulaA_elements_AtomicVolume  \\\n",
       "0        89         4                       37.433086   \n",
       "1        89        48                       37.433086   \n",
       "2        89        55                       37.433086   \n",
       "3        89        67                       37.433086   \n",
       "4        89        19                       37.433086   \n",
       "\n",
       "   formulaB_elements_AtomicVolume  formulaA_elements_AtomicWeight  \\\n",
       "0                        8.098176                           227.0   \n",
       "1                       21.580025                           227.0   \n",
       "2                      117.456016                           227.0   \n",
       "3                       31.140380                           227.0   \n",
       "4                       75.847865                           227.0   \n",
       "\n",
       "   formulaB_elements_AtomicWeight  formulaA_elements_BoilingT  \\\n",
       "0                        9.012182                      3473.0   \n",
       "1                      112.411000                      3473.0   \n",
       "2                      132.905452                      3473.0   \n",
       "3                      164.930320                      3473.0   \n",
       "4                       39.098300                      3473.0   \n",
       "\n",
       "   formulaB_elements_BoilingT  formulaA_elements_BulkModulus  \\\n",
       "0                      2743.0                            0.0   \n",
       "1                      1040.0                            0.0   \n",
       "2                       944.0                            0.0   \n",
       "3                      2973.0                            0.0   \n",
       "4                      1032.0                            0.0   \n",
       "\n",
       "   formulaB_elements_BulkModulus               ...                 \\\n",
       "0                          130.0               ...                  \n",
       "1                           42.0               ...                  \n",
       "2                            1.6               ...                  \n",
       "3                           40.0               ...                  \n",
       "4                            3.1               ...                  \n",
       "\n",
       "   formulaA_elements_Row  formulaB_elements_Row  \\\n",
       "0                      7                      2   \n",
       "1                      7                      5   \n",
       "2                      7                      6   \n",
       "3                      7                      6   \n",
       "4                      7                      4   \n",
       "\n",
       "   formulaA_elements_ShearModulus  formulaB_elements_ShearModulus  \\\n",
       "0                             0.0                           132.0   \n",
       "1                             0.0                            19.0   \n",
       "2                             0.0                             0.0   \n",
       "3                             0.0                            26.0   \n",
       "4                             0.0                             1.3   \n",
       "\n",
       "   formulaA_elements_SpaceGroupNumber  formulaB_elements_SpaceGroupNumber  \\\n",
       "0                                 225                                 194   \n",
       "1                                 225                                 194   \n",
       "2                                 225                                 229   \n",
       "3                                 225                                 194   \n",
       "4                                 225                                 229   \n",
       "\n",
       "   avg_coordination_A  avg_coordination_B  avg_nearest_neighbor_distance_A  \\\n",
       "0                12.0                12.0                          3.99462   \n",
       "1                12.0                 6.0                          3.99462   \n",
       "2                12.0                 8.0                          3.99462   \n",
       "3                12.0                12.0                          3.99462   \n",
       "4                12.0                 8.0                          3.99462   \n",
       "\n",
       "   avg_nearest_neighbor_distance_B  \n",
       "0                          2.20087  \n",
       "1                          3.00785  \n",
       "2                          5.32395  \n",
       "3                          3.48112  \n",
       "4                          4.57083  \n",
       "\n",
       "[5 rows x 98 columns]"
      ]
     },
     "execution_count": 120,
     "metadata": {},
     "output_type": "execute_result"
    }
   ],
   "source": [
    "path_f=os.getcwd()\n",
    "\n",
    "path_f_1=os.path.join(path_f, 'data')\n",
    "\n",
    "\n",
    "names=[]\n",
    "for files_txts in os.listdir(path_f_1):\n",
    "    if files_txts.endswith(\".csv\"):\n",
    "        #print(files_txts)\n",
    "        names.append(files_txts)\n",
    "        \n",
    "path_train=os.path.join(path_f_1, names[0])\n",
    "path_test=os.path.join(path_f_1, names[1])\n",
    "\n",
    "df_test=pd.read_csv(path_test)\n",
    "df_train=pd.read_csv(path_train)\n",
    "\n",
    "df_test['formulaA']=df_test['formulaA_elements_Number']\n",
    "df_test['formulaB']=df_test['formulaB_elements_Number']\n",
    "\n",
    "feature_cols=list(df_test)\n",
    "print(df_test.shape)\n",
    "df_test_names=pd.read_csv(path_test)\n",
    "df_test.head()\n",
    "\n"
   ]
  },
  {
   "cell_type": "code",
   "execution_count": 16,
   "metadata": {},
   "outputs": [
    {
     "name": "stdout",
     "output_type": "stream",
     "text": [
      "(749, 98)\n",
      "(749, 98)\n"
     ]
    }
   ],
   "source": [
    "## Normalization the test Data\n",
    "\n",
    "## Using Un-normalized data as input\n",
    "X_test=df_test[feature_cols]\n",
    "\n",
    "print(X_test.shape)\n",
    "\n",
    "## Normalizing by Zscore\n",
    "from scipy.stats import zscore\n",
    "X_test_Z_score=X_test.apply(zscore)\n",
    "print(X_test_Z_score.shape)\n"
   ]
  },
  {
   "cell_type": "markdown",
   "metadata": {},
   "source": [
    "## Loading the best Performing Models"
   ]
  },
  {
   "cell_type": "code",
   "execution_count": 96,
   "metadata": {},
   "outputs": [
    {
     "name": "stdout",
     "output_type": "stream",
     "text": [
      "['Best_model_at_least_one_element.sav', 'Best_model_component_1.sav', 'Best_model_component_2.sav', 'Best_model_component_3.sav', 'Best_model_component_4.sav', 'Best_model_component_5.sav', 'Best_model_component_6.sav', 'Best_model_component_7.sav', 'Best_model_component_8.sav', 'Best_model_component_9.sav']\n",
      "['var_list_stable.var', 'var_list_stable_comp_1.var', 'var_list_stable_comp_2.var', 'var_list_stable_comp_3.var', 'var_list_stable_comp_4.var', 'var_list_stable_comp_5.var', 'var_list_stable_comp_6.var', 'var_list_stable_comp_7.var', 'var_list_stable_comp_8.var', 'var_list_stable_comp_9.var']\n"
     ]
    }
   ],
   "source": [
    "models = sorted(glob.glob(\"*.sav\"))\n",
    "print(models)\n",
    "features_f = sorted(glob.glob(\"*.var\"))\n",
    "print(features_f)"
   ]
  },
  {
   "cell_type": "markdown",
   "metadata": {},
   "source": [
    "### Determine which of the Element Pairs in the Test Set will produce at least ONE Stable Compound"
   ]
  },
  {
   "cell_type": "code",
   "execution_count": 57,
   "metadata": {},
   "outputs": [],
   "source": [
    "loaded_model = joblib.load(models[0])\n",
    "\n",
    "with open(features_f[0], 'rb') as f:\n",
    "    corr_variables = pickle.load(f)\n",
    "Y_test=loaded_model.predict(X_test_Z_score[corr_variables])"
   ]
  },
  {
   "cell_type": "code",
   "execution_count": 86,
   "metadata": {},
   "outputs": [
    {
     "name": "stdout",
     "output_type": "stream",
     "text": [
      "These are the elements that did not produce any stable compound regardless of the element they were paired\n"
     ]
    },
    {
     "data": {
      "text/plain": [
       "['Kr', 'Ar', 'He', 'Xe', 'Ne']"
      ]
     },
     "execution_count": 86,
     "metadata": {},
     "output_type": "execute_result"
    }
   ],
   "source": [
    "##Analyzing Model Results\n",
    "stable_comp=df_test_names.loc[Y_test==1,['formulaA','formulaB']] \n",
    "stable_comp_num=stable_comp.values\n",
    "stable_A=np.unique(stable_comp_num[:,0])\n",
    "stable_B=np.unique(stable_comp_num[:,1])\n",
    "\n",
    "uq_elements_pair=np.unique(df_test_names[['formulaA','formulaB']].values)\n",
    "uq_elements_pair_pre=np.unique(stable_comp_num)\n",
    "\n",
    "\n",
    "print('These are the elements that did not produce any stable compound regardless of the element they were paired')\n",
    "list(set(uq_elements_pair) - set(uq_elements_pair_pre))"
   ]
  },
  {
   "cell_type": "markdown",
   "metadata": {},
   "source": [
    "This makes sense since Noble Gases do not interact with any other elements"
   ]
  },
  {
   "cell_type": "markdown",
   "metadata": {},
   "source": [
    "### Now lets use the learned models to predict the components of the stability vector of the elements that produce at least one stable compound "
   ]
  },
  {
   "cell_type": "code",
   "execution_count": 217,
   "metadata": {},
   "outputs": [
    {
     "name": "stdout",
     "output_type": "stream",
     "text": [
      "(393, 98)\n",
      "(393, 98)\n"
     ]
    }
   ],
   "source": [
    "df_stable_test=df_test.loc[Y_test==1] \n",
    "df_stable_test_names=df_test_names.loc[Y_test==1] \n",
    "\n",
    "print(df_stable_test.shape)\n",
    "\n",
    "X_test_Z_score_stable=X_test_Z_score.loc[Y_test==1] \n",
    "\n",
    "print(X_test_Z_score_stable.shape)"
   ]
  },
  {
   "cell_type": "code",
   "execution_count": 95,
   "metadata": {},
   "outputs": [
    {
     "name": "stdout",
     "output_type": "stream",
     "text": [
      "(393, 9)\n"
     ]
    }
   ],
   "source": [
    "stability_vec=np.zeros([df_stable_test.shape[0],9])\n",
    "print(stability_vec.shape)"
   ]
  },
  {
   "cell_type": "code",
   "execution_count": 105,
   "metadata": {},
   "outputs": [
    {
     "name": "stdout",
     "output_type": "stream",
     "text": [
      "0\n",
      "Best_model_component_1.sav var_list_stable_comp_1.var\n",
      "1\n",
      "Best_model_component_2.sav var_list_stable_comp_2.var\n",
      "2\n",
      "Best_model_component_3.sav var_list_stable_comp_3.var\n",
      "3\n",
      "Best_model_component_4.sav var_list_stable_comp_4.var\n",
      "4\n",
      "Best_model_component_5.sav var_list_stable_comp_5.var\n",
      "5\n",
      "Best_model_component_6.sav var_list_stable_comp_6.var\n",
      "6\n",
      "Best_model_component_7.sav var_list_stable_comp_7.var\n",
      "7\n",
      "Best_model_component_8.sav var_list_stable_comp_8.var\n",
      "8\n",
      "Best_model_component_9.sav var_list_stable_comp_9.var\n"
     ]
    }
   ],
   "source": [
    "cnt=0\n",
    "for ndx in range(1,10):\n",
    "    print(cnt)\n",
    "    print(models[ndx], features_f[ndx])\n",
    "    loaded_model = joblib.load(models[ndx])\n",
    "    \n",
    "    with open(features_f[ndx], 'rb') as f:\n",
    "        corr_variables = pickle.load(f)\n",
    "        \n",
    "    stability_vec[:,cnt]=loaded_model.predict(X_test_Z_score_stable[corr_variables])\n",
    "    cnt=cnt+1"
   ]
  },
  {
   "cell_type": "code",
   "execution_count": 114,
   "metadata": {},
   "outputs": [
    {
     "data": {
      "text/plain": [
       "array([[0., 0., 1., 0., 0., 0., 0., 0., 0.],\n",
       "       [0., 0., 1., 0., 0., 0., 0., 0., 0.],\n",
       "       [0., 0., 0., 0., 0., 0., 0., 1., 0.],\n",
       "       [0., 0., 0., 0., 1., 0., 0., 1., 0.],\n",
       "       [0., 0., 0., 0., 0., 0., 1., 1., 1.]])"
      ]
     },
     "execution_count": 114,
     "metadata": {},
     "output_type": "execute_result"
    }
   ],
   "source": [
    "stability_vec[:5,:]"
   ]
  },
  {
   "cell_type": "code",
   "execution_count": 123,
   "metadata": {},
   "outputs": [
    {
     "data": {
      "text/plain": [
       "Int64Index([  1,   7,   8,   9,  10,  12,  13,  14,  15,  17,\n",
       "            ...\n",
       "            732, 734, 736, 737, 738, 739, 741, 743, 744, 746],\n",
       "           dtype='int64', length=393)"
      ]
     },
     "execution_count": 123,
     "metadata": {},
     "output_type": "execute_result"
    }
   ],
   "source": [
    "X_test_Z_score_stable.index"
   ]
  },
  {
   "cell_type": "code",
   "execution_count": null,
   "metadata": {},
   "outputs": [],
   "source": []
  },
  {
   "cell_type": "code",
   "execution_count": null,
   "metadata": {},
   "outputs": [],
   "source": []
  },
  {
   "cell_type": "code",
   "execution_count": null,
   "metadata": {},
   "outputs": [],
   "source": []
  },
  {
   "cell_type": "code",
   "execution_count": 118,
   "metadata": {},
   "outputs": [
    {
     "data": {
      "text/html": [
       "<div>\n",
       "<style scoped>\n",
       "    .dataframe tbody tr th:only-of-type {\n",
       "        vertical-align: middle;\n",
       "    }\n",
       "\n",
       "    .dataframe tbody tr th {\n",
       "        vertical-align: top;\n",
       "    }\n",
       "\n",
       "    .dataframe thead th {\n",
       "        text-align: right;\n",
       "    }\n",
       "</style>\n",
       "<table border=\"1\" class=\"dataframe\">\n",
       "  <thead>\n",
       "    <tr style=\"text-align: right;\">\n",
       "      <th></th>\n",
       "      <th>formulaA</th>\n",
       "      <th>formulaB</th>\n",
       "      <th>formulaA_elements_AtomicVolume</th>\n",
       "      <th>formulaB_elements_AtomicVolume</th>\n",
       "      <th>formulaA_elements_AtomicWeight</th>\n",
       "      <th>formulaB_elements_AtomicWeight</th>\n",
       "      <th>formulaA_elements_BoilingT</th>\n",
       "      <th>formulaB_elements_BoilingT</th>\n",
       "      <th>formulaA_elements_BulkModulus</th>\n",
       "      <th>formulaB_elements_BulkModulus</th>\n",
       "      <th>...</th>\n",
       "      <th>formulaA_elements_Row</th>\n",
       "      <th>formulaB_elements_Row</th>\n",
       "      <th>formulaA_elements_ShearModulus</th>\n",
       "      <th>formulaB_elements_ShearModulus</th>\n",
       "      <th>formulaA_elements_SpaceGroupNumber</th>\n",
       "      <th>formulaB_elements_SpaceGroupNumber</th>\n",
       "      <th>avg_coordination_A</th>\n",
       "      <th>avg_coordination_B</th>\n",
       "      <th>avg_nearest_neighbor_distance_A</th>\n",
       "      <th>avg_nearest_neighbor_distance_B</th>\n",
       "    </tr>\n",
       "  </thead>\n",
       "  <tbody>\n",
       "    <tr>\n",
       "      <th>97</th>\n",
       "      <td>6</td>\n",
       "      <td>70</td>\n",
       "      <td>8.825090</td>\n",
       "      <td>43.739672</td>\n",
       "      <td>12.0107</td>\n",
       "      <td>173.0540</td>\n",
       "      <td>4300.0</td>\n",
       "      <td>1469.0</td>\n",
       "      <td>33.0</td>\n",
       "      <td>31.0</td>\n",
       "      <td>...</td>\n",
       "      <td>2</td>\n",
       "      <td>6</td>\n",
       "      <td>0.0</td>\n",
       "      <td>9.9</td>\n",
       "      <td>194</td>\n",
       "      <td>225</td>\n",
       "      <td>3.0</td>\n",
       "      <td>12.0</td>\n",
       "      <td>1.42409</td>\n",
       "      <td>3.85320</td>\n",
       "    </tr>\n",
       "    <tr>\n",
       "      <th>526</th>\n",
       "      <td>44</td>\n",
       "      <td>14</td>\n",
       "      <td>13.567874</td>\n",
       "      <td>20.016378</td>\n",
       "      <td>101.0700</td>\n",
       "      <td>28.0855</td>\n",
       "      <td>4423.0</td>\n",
       "      <td>3173.0</td>\n",
       "      <td>220.0</td>\n",
       "      <td>100.0</td>\n",
       "      <td>...</td>\n",
       "      <td>5</td>\n",
       "      <td>3</td>\n",
       "      <td>173.0</td>\n",
       "      <td>0.0</td>\n",
       "      <td>194</td>\n",
       "      <td>227</td>\n",
       "      <td>12.0</td>\n",
       "      <td>4.0</td>\n",
       "      <td>2.66567</td>\n",
       "      <td>2.36803</td>\n",
       "    </tr>\n",
       "    <tr>\n",
       "      <th>640</th>\n",
       "      <td>52</td>\n",
       "      <td>82</td>\n",
       "      <td>33.956689</td>\n",
       "      <td>30.341423</td>\n",
       "      <td>127.6000</td>\n",
       "      <td>207.2000</td>\n",
       "      <td>1261.0</td>\n",
       "      <td>2022.0</td>\n",
       "      <td>65.0</td>\n",
       "      <td>46.0</td>\n",
       "      <td>...</td>\n",
       "      <td>5</td>\n",
       "      <td>6</td>\n",
       "      <td>16.0</td>\n",
       "      <td>5.6</td>\n",
       "      <td>152</td>\n",
       "      <td>225</td>\n",
       "      <td>2.0</td>\n",
       "      <td>12.0</td>\n",
       "      <td>2.89227</td>\n",
       "      <td>3.57454</td>\n",
       "    </tr>\n",
       "  </tbody>\n",
       "</table>\n",
       "<p>3 rows × 98 columns</p>\n",
       "</div>"
      ],
      "text/plain": [
       "     formulaA  formulaB  formulaA_elements_AtomicVolume  \\\n",
       "97          6        70                        8.825090   \n",
       "526        44        14                       13.567874   \n",
       "640        52        82                       33.956689   \n",
       "\n",
       "     formulaB_elements_AtomicVolume  formulaA_elements_AtomicWeight  \\\n",
       "97                        43.739672                         12.0107   \n",
       "526                       20.016378                        101.0700   \n",
       "640                       30.341423                        127.6000   \n",
       "\n",
       "     formulaB_elements_AtomicWeight  formulaA_elements_BoilingT  \\\n",
       "97                         173.0540                      4300.0   \n",
       "526                         28.0855                      4423.0   \n",
       "640                        207.2000                      1261.0   \n",
       "\n",
       "     formulaB_elements_BoilingT  formulaA_elements_BulkModulus  \\\n",
       "97                       1469.0                           33.0   \n",
       "526                      3173.0                          220.0   \n",
       "640                      2022.0                           65.0   \n",
       "\n",
       "     formulaB_elements_BulkModulus               ...                 \\\n",
       "97                            31.0               ...                  \n",
       "526                          100.0               ...                  \n",
       "640                           46.0               ...                  \n",
       "\n",
       "     formulaA_elements_Row  formulaB_elements_Row  \\\n",
       "97                       2                      6   \n",
       "526                      5                      3   \n",
       "640                      5                      6   \n",
       "\n",
       "     formulaA_elements_ShearModulus  formulaB_elements_ShearModulus  \\\n",
       "97                              0.0                             9.9   \n",
       "526                           173.0                             0.0   \n",
       "640                            16.0                             5.6   \n",
       "\n",
       "     formulaA_elements_SpaceGroupNumber  formulaB_elements_SpaceGroupNumber  \\\n",
       "97                                  194                                 225   \n",
       "526                                 194                                 227   \n",
       "640                                 152                                 225   \n",
       "\n",
       "     avg_coordination_A  avg_coordination_B  avg_nearest_neighbor_distance_A  \\\n",
       "97                  3.0                12.0                          1.42409   \n",
       "526                12.0                 4.0                          2.66567   \n",
       "640                 2.0                12.0                          2.89227   \n",
       "\n",
       "     avg_nearest_neighbor_distance_B  \n",
       "97                           3.85320  \n",
       "526                          2.36803  \n",
       "640                          3.57454  \n",
       "\n",
       "[3 rows x 98 columns]"
      ]
     },
     "execution_count": 118,
     "metadata": {},
     "output_type": "execute_result"
    }
   ],
   "source": [
    "df_stable_test.loc[stability_vec.sum(axis=1)==0]"
   ]
  },
  {
   "cell_type": "code",
   "execution_count": 119,
   "metadata": {},
   "outputs": [
    {
     "data": {
      "text/plain": [
       "array([[0., 0., 0., 0., 0., 0., 0., 0., 0.],\n",
       "       [0., 0., 0., 0., 0., 0., 0., 0., 0.],\n",
       "       [0., 0., 0., 0., 0., 0., 0., 0., 0.]])"
      ]
     },
     "execution_count": 119,
     "metadata": {},
     "output_type": "execute_result"
    }
   ],
   "source": [
    "stability_vec[stability_vec.sum(axis=1)==0,:]"
   ]
  },
  {
   "cell_type": "code",
   "execution_count": 125,
   "metadata": {},
   "outputs": [
    {
     "data": {
      "text/plain": [
       "(393, 9)"
      ]
     },
     "execution_count": 125,
     "metadata": {},
     "output_type": "execute_result"
    }
   ],
   "source": [
    "stability_vec.shape"
   ]
  },
  {
   "cell_type": "markdown",
   "metadata": {},
   "source": [
    "## Combining the results and writing the New Columns in the Test set"
   ]
  },
  {
   "cell_type": "code",
   "execution_count": 213,
   "metadata": {},
   "outputs": [
    {
     "name": "stdout",
     "output_type": "stream",
     "text": [
      "(749, 1)\n",
      "(749, 11)\n"
     ]
    }
   ],
   "source": [
    "y_pure_element_all=np.ones([df_test.shape[0],1])\n",
    "print(y_pure_element_all.shape)\n",
    "\n",
    "stability_vec_all=np.zeros([df_test.shape[0],9])\n",
    "y_stab_vec_all=np.concatenate((y_pure_element_all,stability_vec_all,y_pure_element_all), axis=1)\n",
    "\n",
    "print(y_stab_vec_all.shape)\n"
   ]
  },
  {
   "cell_type": "code",
   "execution_count": 214,
   "metadata": {},
   "outputs": [
    {
     "name": "stdout",
     "output_type": "stream",
     "text": [
      "(749, 11)\n",
      "(749, 109)\n"
     ]
    },
    {
     "data": {
      "text/html": [
       "<div>\n",
       "<style scoped>\n",
       "    .dataframe tbody tr th:only-of-type {\n",
       "        vertical-align: middle;\n",
       "    }\n",
       "\n",
       "    .dataframe tbody tr th {\n",
       "        vertical-align: top;\n",
       "    }\n",
       "\n",
       "    .dataframe thead th {\n",
       "        text-align: right;\n",
       "    }\n",
       "</style>\n",
       "<table border=\"1\" class=\"dataframe\">\n",
       "  <thead>\n",
       "    <tr style=\"text-align: right;\">\n",
       "      <th></th>\n",
       "      <th>formulaA</th>\n",
       "      <th>formulaB</th>\n",
       "      <th>formulaA_elements_AtomicVolume</th>\n",
       "      <th>formulaB_elements_AtomicVolume</th>\n",
       "      <th>formulaA_elements_AtomicWeight</th>\n",
       "      <th>formulaB_elements_AtomicWeight</th>\n",
       "      <th>formulaA_elements_BoilingT</th>\n",
       "      <th>formulaB_elements_BoilingT</th>\n",
       "      <th>formulaA_elements_BulkModulus</th>\n",
       "      <th>formulaB_elements_BulkModulus</th>\n",
       "      <th>...</th>\n",
       "      <th>A91B</th>\n",
       "      <th>A82B</th>\n",
       "      <th>A73B</th>\n",
       "      <th>A64B</th>\n",
       "      <th>A55B</th>\n",
       "      <th>A46B</th>\n",
       "      <th>A37B</th>\n",
       "      <th>A28B</th>\n",
       "      <th>A19B</th>\n",
       "      <th>B</th>\n",
       "    </tr>\n",
       "  </thead>\n",
       "  <tbody>\n",
       "    <tr>\n",
       "      <th>0</th>\n",
       "      <td>Ac</td>\n",
       "      <td>Be</td>\n",
       "      <td>37.433086</td>\n",
       "      <td>8.098176</td>\n",
       "      <td>227.0</td>\n",
       "      <td>9.012182</td>\n",
       "      <td>3473.0</td>\n",
       "      <td>2743.0</td>\n",
       "      <td>0.0</td>\n",
       "      <td>130.0</td>\n",
       "      <td>...</td>\n",
       "      <td>0.0</td>\n",
       "      <td>0.0</td>\n",
       "      <td>0.0</td>\n",
       "      <td>0.0</td>\n",
       "      <td>0.0</td>\n",
       "      <td>0.0</td>\n",
       "      <td>0.0</td>\n",
       "      <td>0.0</td>\n",
       "      <td>0.0</td>\n",
       "      <td>1.0</td>\n",
       "    </tr>\n",
       "    <tr>\n",
       "      <th>1</th>\n",
       "      <td>Ac</td>\n",
       "      <td>Cd</td>\n",
       "      <td>37.433086</td>\n",
       "      <td>21.580025</td>\n",
       "      <td>227.0</td>\n",
       "      <td>112.411000</td>\n",
       "      <td>3473.0</td>\n",
       "      <td>1040.0</td>\n",
       "      <td>0.0</td>\n",
       "      <td>42.0</td>\n",
       "      <td>...</td>\n",
       "      <td>0.0</td>\n",
       "      <td>0.0</td>\n",
       "      <td>0.0</td>\n",
       "      <td>0.0</td>\n",
       "      <td>0.0</td>\n",
       "      <td>0.0</td>\n",
       "      <td>0.0</td>\n",
       "      <td>0.0</td>\n",
       "      <td>0.0</td>\n",
       "      <td>1.0</td>\n",
       "    </tr>\n",
       "    <tr>\n",
       "      <th>2</th>\n",
       "      <td>Ac</td>\n",
       "      <td>Cs</td>\n",
       "      <td>37.433086</td>\n",
       "      <td>117.456016</td>\n",
       "      <td>227.0</td>\n",
       "      <td>132.905452</td>\n",
       "      <td>3473.0</td>\n",
       "      <td>944.0</td>\n",
       "      <td>0.0</td>\n",
       "      <td>1.6</td>\n",
       "      <td>...</td>\n",
       "      <td>0.0</td>\n",
       "      <td>0.0</td>\n",
       "      <td>0.0</td>\n",
       "      <td>0.0</td>\n",
       "      <td>0.0</td>\n",
       "      <td>0.0</td>\n",
       "      <td>0.0</td>\n",
       "      <td>0.0</td>\n",
       "      <td>0.0</td>\n",
       "      <td>1.0</td>\n",
       "    </tr>\n",
       "    <tr>\n",
       "      <th>3</th>\n",
       "      <td>Ac</td>\n",
       "      <td>Ho</td>\n",
       "      <td>37.433086</td>\n",
       "      <td>31.140380</td>\n",
       "      <td>227.0</td>\n",
       "      <td>164.930320</td>\n",
       "      <td>3473.0</td>\n",
       "      <td>2973.0</td>\n",
       "      <td>0.0</td>\n",
       "      <td>40.0</td>\n",
       "      <td>...</td>\n",
       "      <td>0.0</td>\n",
       "      <td>0.0</td>\n",
       "      <td>0.0</td>\n",
       "      <td>0.0</td>\n",
       "      <td>0.0</td>\n",
       "      <td>0.0</td>\n",
       "      <td>0.0</td>\n",
       "      <td>0.0</td>\n",
       "      <td>0.0</td>\n",
       "      <td>1.0</td>\n",
       "    </tr>\n",
       "    <tr>\n",
       "      <th>4</th>\n",
       "      <td>Ac</td>\n",
       "      <td>K</td>\n",
       "      <td>37.433086</td>\n",
       "      <td>75.847865</td>\n",
       "      <td>227.0</td>\n",
       "      <td>39.098300</td>\n",
       "      <td>3473.0</td>\n",
       "      <td>1032.0</td>\n",
       "      <td>0.0</td>\n",
       "      <td>3.1</td>\n",
       "      <td>...</td>\n",
       "      <td>0.0</td>\n",
       "      <td>0.0</td>\n",
       "      <td>0.0</td>\n",
       "      <td>0.0</td>\n",
       "      <td>0.0</td>\n",
       "      <td>0.0</td>\n",
       "      <td>0.0</td>\n",
       "      <td>0.0</td>\n",
       "      <td>0.0</td>\n",
       "      <td>1.0</td>\n",
       "    </tr>\n",
       "  </tbody>\n",
       "</table>\n",
       "<p>5 rows × 109 columns</p>\n",
       "</div>"
      ],
      "text/plain": [
       "  formulaA formulaB  formulaA_elements_AtomicVolume  \\\n",
       "0       Ac       Be                       37.433086   \n",
       "1       Ac       Cd                       37.433086   \n",
       "2       Ac       Cs                       37.433086   \n",
       "3       Ac       Ho                       37.433086   \n",
       "4       Ac        K                       37.433086   \n",
       "\n",
       "   formulaB_elements_AtomicVolume  formulaA_elements_AtomicWeight  \\\n",
       "0                        8.098176                           227.0   \n",
       "1                       21.580025                           227.0   \n",
       "2                      117.456016                           227.0   \n",
       "3                       31.140380                           227.0   \n",
       "4                       75.847865                           227.0   \n",
       "\n",
       "   formulaB_elements_AtomicWeight  formulaA_elements_BoilingT  \\\n",
       "0                        9.012182                      3473.0   \n",
       "1                      112.411000                      3473.0   \n",
       "2                      132.905452                      3473.0   \n",
       "3                      164.930320                      3473.0   \n",
       "4                       39.098300                      3473.0   \n",
       "\n",
       "   formulaB_elements_BoilingT  formulaA_elements_BulkModulus  \\\n",
       "0                      2743.0                            0.0   \n",
       "1                      1040.0                            0.0   \n",
       "2                       944.0                            0.0   \n",
       "3                      2973.0                            0.0   \n",
       "4                      1032.0                            0.0   \n",
       "\n",
       "   formulaB_elements_BulkModulus ...   A91B  A82B  A73B  A64B  A55B  A46B  \\\n",
       "0                          130.0 ...    0.0   0.0   0.0   0.0   0.0   0.0   \n",
       "1                           42.0 ...    0.0   0.0   0.0   0.0   0.0   0.0   \n",
       "2                            1.6 ...    0.0   0.0   0.0   0.0   0.0   0.0   \n",
       "3                           40.0 ...    0.0   0.0   0.0   0.0   0.0   0.0   \n",
       "4                            3.1 ...    0.0   0.0   0.0   0.0   0.0   0.0   \n",
       "\n",
       "   A37B  A28B  A19B    B  \n",
       "0   0.0   0.0   0.0  1.0  \n",
       "1   0.0   0.0   0.0  1.0  \n",
       "2   0.0   0.0   0.0  1.0  \n",
       "3   0.0   0.0   0.0  1.0  \n",
       "4   0.0   0.0   0.0  1.0  \n",
       "\n",
       "[5 rows x 109 columns]"
      ]
     },
     "execution_count": 214,
     "metadata": {},
     "output_type": "execute_result"
    }
   ],
   "source": [
    "df_tmp = pd.DataFrame(y_stab_vec_all, columns = ['A', 'A91B', 'A82B','A73B','A64B','A55B','A46B','A37B','A28B','A19B','B'])\n",
    "stab_vec_list=['A', 'A91B', 'A82B','A73B','A64B','A55B','A46B','A37B','A28B','A19B','B']\n",
    "\n",
    "print(df_tmp.shape)\n",
    "\n",
    "df_test_all_results=pd.concat([df_test_names, df_tmp],axis=1)\n",
    "print(df_test_all_results.shape)\n",
    "df_test_all_results.head()"
   ]
  },
  {
   "cell_type": "code",
   "execution_count": 215,
   "metadata": {},
   "outputs": [
    {
     "name": "stdout",
     "output_type": "stream",
     "text": [
      "(393, 1)\n",
      "(393, 11)\n"
     ]
    }
   ],
   "source": [
    "y_pure_element=np.ones([df_stable_test.shape[0],1])\n",
    "print(y_pure_element.shape)\n",
    "\n",
    "y_stab_vec=np.concatenate((y_pure_element,stability_vec,y_pure_element), axis=1)\n",
    "\n",
    "print(y_stab_vec.shape)\n"
   ]
  },
  {
   "cell_type": "code",
   "execution_count": 216,
   "metadata": {},
   "outputs": [
    {
     "name": "stdout",
     "output_type": "stream",
     "text": [
      "(393, 11)\n",
      "A       393.0\n",
      "A91B     86.0\n",
      "A82B     80.0\n",
      "A73B    223.0\n",
      "A64B     85.0\n",
      "A55B    229.0\n",
      "A46B     63.0\n",
      "A37B    181.0\n",
      "A28B    136.0\n",
      "A19B     49.0\n",
      "B       393.0\n",
      "dtype: float64\n"
     ]
    },
    {
     "data": {
      "text/html": [
       "<div>\n",
       "<style scoped>\n",
       "    .dataframe tbody tr th:only-of-type {\n",
       "        vertical-align: middle;\n",
       "    }\n",
       "\n",
       "    .dataframe tbody tr th {\n",
       "        vertical-align: top;\n",
       "    }\n",
       "\n",
       "    .dataframe thead th {\n",
       "        text-align: right;\n",
       "    }\n",
       "</style>\n",
       "<table border=\"1\" class=\"dataframe\">\n",
       "  <thead>\n",
       "    <tr style=\"text-align: right;\">\n",
       "      <th></th>\n",
       "      <th>A</th>\n",
       "      <th>A91B</th>\n",
       "      <th>A82B</th>\n",
       "      <th>A73B</th>\n",
       "      <th>A64B</th>\n",
       "      <th>A55B</th>\n",
       "      <th>A46B</th>\n",
       "      <th>A37B</th>\n",
       "      <th>A28B</th>\n",
       "      <th>A19B</th>\n",
       "      <th>B</th>\n",
       "    </tr>\n",
       "  </thead>\n",
       "  <tbody>\n",
       "    <tr>\n",
       "      <th>1</th>\n",
       "      <td>1.0</td>\n",
       "      <td>0.0</td>\n",
       "      <td>0.0</td>\n",
       "      <td>1.0</td>\n",
       "      <td>0.0</td>\n",
       "      <td>0.0</td>\n",
       "      <td>0.0</td>\n",
       "      <td>0.0</td>\n",
       "      <td>0.0</td>\n",
       "      <td>0.0</td>\n",
       "      <td>1.0</td>\n",
       "    </tr>\n",
       "    <tr>\n",
       "      <th>7</th>\n",
       "      <td>1.0</td>\n",
       "      <td>0.0</td>\n",
       "      <td>0.0</td>\n",
       "      <td>1.0</td>\n",
       "      <td>0.0</td>\n",
       "      <td>0.0</td>\n",
       "      <td>0.0</td>\n",
       "      <td>0.0</td>\n",
       "      <td>0.0</td>\n",
       "      <td>0.0</td>\n",
       "      <td>1.0</td>\n",
       "    </tr>\n",
       "    <tr>\n",
       "      <th>8</th>\n",
       "      <td>1.0</td>\n",
       "      <td>0.0</td>\n",
       "      <td>0.0</td>\n",
       "      <td>0.0</td>\n",
       "      <td>0.0</td>\n",
       "      <td>0.0</td>\n",
       "      <td>0.0</td>\n",
       "      <td>0.0</td>\n",
       "      <td>1.0</td>\n",
       "      <td>0.0</td>\n",
       "      <td>1.0</td>\n",
       "    </tr>\n",
       "    <tr>\n",
       "      <th>9</th>\n",
       "      <td>1.0</td>\n",
       "      <td>0.0</td>\n",
       "      <td>0.0</td>\n",
       "      <td>0.0</td>\n",
       "      <td>0.0</td>\n",
       "      <td>1.0</td>\n",
       "      <td>0.0</td>\n",
       "      <td>0.0</td>\n",
       "      <td>1.0</td>\n",
       "      <td>0.0</td>\n",
       "      <td>1.0</td>\n",
       "    </tr>\n",
       "    <tr>\n",
       "      <th>10</th>\n",
       "      <td>1.0</td>\n",
       "      <td>0.0</td>\n",
       "      <td>0.0</td>\n",
       "      <td>0.0</td>\n",
       "      <td>0.0</td>\n",
       "      <td>0.0</td>\n",
       "      <td>0.0</td>\n",
       "      <td>1.0</td>\n",
       "      <td>1.0</td>\n",
       "      <td>1.0</td>\n",
       "      <td>1.0</td>\n",
       "    </tr>\n",
       "  </tbody>\n",
       "</table>\n",
       "</div>"
      ],
      "text/plain": [
       "      A  A91B  A82B  A73B  A64B  A55B  A46B  A37B  A28B  A19B    B\n",
       "1   1.0   0.0   0.0   1.0   0.0   0.0   0.0   0.0   0.0   0.0  1.0\n",
       "7   1.0   0.0   0.0   1.0   0.0   0.0   0.0   0.0   0.0   0.0  1.0\n",
       "8   1.0   0.0   0.0   0.0   0.0   0.0   0.0   0.0   1.0   0.0  1.0\n",
       "9   1.0   0.0   0.0   0.0   0.0   1.0   0.0   0.0   1.0   0.0  1.0\n",
       "10  1.0   0.0   0.0   0.0   0.0   0.0   0.0   1.0   1.0   1.0  1.0"
      ]
     },
     "execution_count": 216,
     "metadata": {},
     "output_type": "execute_result"
    }
   ],
   "source": [
    "df_tmp = pd.DataFrame(y_stab_vec, columns = ['A', 'A91B', 'A82B','A73B','A64B','A55B','A46B','A37B','A28B','A19B','B'],index=df_stable_test.index)\n",
    "#stab_vec_list=[ 'A91B', 'A82B','A73B','A64B','A55B','A46B','A37B','A28B','A19B']\n",
    "print(df_tmp.shape)\n",
    "print(df_tmp.sum())\n",
    "df_tmp.head()"
   ]
  },
  {
   "cell_type": "code",
   "execution_count": 218,
   "metadata": {},
   "outputs": [
    {
     "name": "stdout",
     "output_type": "stream",
     "text": [
      "(393, 109)\n",
      "A       393.0\n",
      "A91B     86.0\n",
      "A82B     80.0\n",
      "A73B    223.0\n",
      "A64B     85.0\n",
      "A55B    229.0\n",
      "A46B     63.0\n",
      "A37B    181.0\n",
      "A28B    136.0\n",
      "A19B     49.0\n",
      "B       393.0\n",
      "dtype: float64\n"
     ]
    },
    {
     "data": {
      "text/html": [
       "<div>\n",
       "<style scoped>\n",
       "    .dataframe tbody tr th:only-of-type {\n",
       "        vertical-align: middle;\n",
       "    }\n",
       "\n",
       "    .dataframe tbody tr th {\n",
       "        vertical-align: top;\n",
       "    }\n",
       "\n",
       "    .dataframe thead th {\n",
       "        text-align: right;\n",
       "    }\n",
       "</style>\n",
       "<table border=\"1\" class=\"dataframe\">\n",
       "  <thead>\n",
       "    <tr style=\"text-align: right;\">\n",
       "      <th></th>\n",
       "      <th>formulaA</th>\n",
       "      <th>formulaB</th>\n",
       "      <th>formulaA_elements_AtomicVolume</th>\n",
       "      <th>formulaB_elements_AtomicVolume</th>\n",
       "      <th>formulaA_elements_AtomicWeight</th>\n",
       "      <th>formulaB_elements_AtomicWeight</th>\n",
       "      <th>formulaA_elements_BoilingT</th>\n",
       "      <th>formulaB_elements_BoilingT</th>\n",
       "      <th>formulaA_elements_BulkModulus</th>\n",
       "      <th>formulaB_elements_BulkModulus</th>\n",
       "      <th>...</th>\n",
       "      <th>A91B</th>\n",
       "      <th>A82B</th>\n",
       "      <th>A73B</th>\n",
       "      <th>A64B</th>\n",
       "      <th>A55B</th>\n",
       "      <th>A46B</th>\n",
       "      <th>A37B</th>\n",
       "      <th>A28B</th>\n",
       "      <th>A19B</th>\n",
       "      <th>B</th>\n",
       "    </tr>\n",
       "  </thead>\n",
       "  <tbody>\n",
       "    <tr>\n",
       "      <th>1</th>\n",
       "      <td>Ac</td>\n",
       "      <td>Cd</td>\n",
       "      <td>37.433086</td>\n",
       "      <td>21.580025</td>\n",
       "      <td>227.0000</td>\n",
       "      <td>112.411000</td>\n",
       "      <td>3473.0</td>\n",
       "      <td>1040.0</td>\n",
       "      <td>0.0</td>\n",
       "      <td>42.0</td>\n",
       "      <td>...</td>\n",
       "      <td>0.0</td>\n",
       "      <td>0.0</td>\n",
       "      <td>1.0</td>\n",
       "      <td>0.0</td>\n",
       "      <td>0.0</td>\n",
       "      <td>0.0</td>\n",
       "      <td>0.0</td>\n",
       "      <td>0.0</td>\n",
       "      <td>0.0</td>\n",
       "      <td>1.0</td>\n",
       "    </tr>\n",
       "    <tr>\n",
       "      <th>7</th>\n",
       "      <td>Ac</td>\n",
       "      <td>Se</td>\n",
       "      <td>37.433086</td>\n",
       "      <td>27.208805</td>\n",
       "      <td>227.0000</td>\n",
       "      <td>78.960000</td>\n",
       "      <td>3473.0</td>\n",
       "      <td>958.0</td>\n",
       "      <td>0.0</td>\n",
       "      <td>8.3</td>\n",
       "      <td>...</td>\n",
       "      <td>0.0</td>\n",
       "      <td>0.0</td>\n",
       "      <td>1.0</td>\n",
       "      <td>0.0</td>\n",
       "      <td>0.0</td>\n",
       "      <td>0.0</td>\n",
       "      <td>0.0</td>\n",
       "      <td>0.0</td>\n",
       "      <td>0.0</td>\n",
       "      <td>1.0</td>\n",
       "    </tr>\n",
       "    <tr>\n",
       "      <th>8</th>\n",
       "      <td>Ac</td>\n",
       "      <td>Sn</td>\n",
       "      <td>37.433086</td>\n",
       "      <td>26.966785</td>\n",
       "      <td>227.0000</td>\n",
       "      <td>118.710000</td>\n",
       "      <td>3473.0</td>\n",
       "      <td>2875.0</td>\n",
       "      <td>0.0</td>\n",
       "      <td>58.0</td>\n",
       "      <td>...</td>\n",
       "      <td>0.0</td>\n",
       "      <td>0.0</td>\n",
       "      <td>0.0</td>\n",
       "      <td>0.0</td>\n",
       "      <td>0.0</td>\n",
       "      <td>0.0</td>\n",
       "      <td>0.0</td>\n",
       "      <td>1.0</td>\n",
       "      <td>0.0</td>\n",
       "      <td>1.0</td>\n",
       "    </tr>\n",
       "    <tr>\n",
       "      <th>9</th>\n",
       "      <td>Ag</td>\n",
       "      <td>Au</td>\n",
       "      <td>17.075648</td>\n",
       "      <td>16.947064</td>\n",
       "      <td>107.8682</td>\n",
       "      <td>196.966569</td>\n",
       "      <td>2435.0</td>\n",
       "      <td>3129.0</td>\n",
       "      <td>100.0</td>\n",
       "      <td>220.0</td>\n",
       "      <td>...</td>\n",
       "      <td>0.0</td>\n",
       "      <td>0.0</td>\n",
       "      <td>0.0</td>\n",
       "      <td>0.0</td>\n",
       "      <td>1.0</td>\n",
       "      <td>0.0</td>\n",
       "      <td>0.0</td>\n",
       "      <td>1.0</td>\n",
       "      <td>0.0</td>\n",
       "      <td>1.0</td>\n",
       "    </tr>\n",
       "    <tr>\n",
       "      <th>10</th>\n",
       "      <td>Ag</td>\n",
       "      <td>Cs</td>\n",
       "      <td>17.075648</td>\n",
       "      <td>117.456016</td>\n",
       "      <td>107.8682</td>\n",
       "      <td>132.905452</td>\n",
       "      <td>2435.0</td>\n",
       "      <td>944.0</td>\n",
       "      <td>100.0</td>\n",
       "      <td>1.6</td>\n",
       "      <td>...</td>\n",
       "      <td>0.0</td>\n",
       "      <td>0.0</td>\n",
       "      <td>0.0</td>\n",
       "      <td>0.0</td>\n",
       "      <td>0.0</td>\n",
       "      <td>0.0</td>\n",
       "      <td>1.0</td>\n",
       "      <td>1.0</td>\n",
       "      <td>1.0</td>\n",
       "      <td>1.0</td>\n",
       "    </tr>\n",
       "  </tbody>\n",
       "</table>\n",
       "<p>5 rows × 109 columns</p>\n",
       "</div>"
      ],
      "text/plain": [
       "   formulaA formulaB  formulaA_elements_AtomicVolume  \\\n",
       "1        Ac       Cd                       37.433086   \n",
       "7        Ac       Se                       37.433086   \n",
       "8        Ac       Sn                       37.433086   \n",
       "9        Ag       Au                       17.075648   \n",
       "10       Ag       Cs                       17.075648   \n",
       "\n",
       "    formulaB_elements_AtomicVolume  formulaA_elements_AtomicWeight  \\\n",
       "1                        21.580025                        227.0000   \n",
       "7                        27.208805                        227.0000   \n",
       "8                        26.966785                        227.0000   \n",
       "9                        16.947064                        107.8682   \n",
       "10                      117.456016                        107.8682   \n",
       "\n",
       "    formulaB_elements_AtomicWeight  formulaA_elements_BoilingT  \\\n",
       "1                       112.411000                      3473.0   \n",
       "7                        78.960000                      3473.0   \n",
       "8                       118.710000                      3473.0   \n",
       "9                       196.966569                      2435.0   \n",
       "10                      132.905452                      2435.0   \n",
       "\n",
       "    formulaB_elements_BoilingT  formulaA_elements_BulkModulus  \\\n",
       "1                       1040.0                            0.0   \n",
       "7                        958.0                            0.0   \n",
       "8                       2875.0                            0.0   \n",
       "9                       3129.0                          100.0   \n",
       "10                       944.0                          100.0   \n",
       "\n",
       "    formulaB_elements_BulkModulus ...   A91B  A82B  A73B  A64B  A55B  A46B  \\\n",
       "1                            42.0 ...    0.0   0.0   1.0   0.0   0.0   0.0   \n",
       "7                             8.3 ...    0.0   0.0   1.0   0.0   0.0   0.0   \n",
       "8                            58.0 ...    0.0   0.0   0.0   0.0   0.0   0.0   \n",
       "9                           220.0 ...    0.0   0.0   0.0   0.0   1.0   0.0   \n",
       "10                            1.6 ...    0.0   0.0   0.0   0.0   0.0   0.0   \n",
       "\n",
       "    A37B  A28B  A19B    B  \n",
       "1    0.0   0.0   0.0  1.0  \n",
       "7    0.0   0.0   0.0  1.0  \n",
       "8    0.0   1.0   0.0  1.0  \n",
       "9    0.0   1.0   0.0  1.0  \n",
       "10   1.0   1.0   1.0  1.0  \n",
       "\n",
       "[5 rows x 109 columns]"
      ]
     },
     "execution_count": 218,
     "metadata": {},
     "output_type": "execute_result"
    }
   ],
   "source": [
    "df_test_stable_results=pd.concat([df_stable_test_names, df_tmp],axis=1)\n",
    "print(df_test_stable_results.shape)\n",
    "print(df_test_stable_results[stab_vec_list].sum())\n",
    "df_test_stable_results.head()\n"
   ]
  },
  {
   "cell_type": "code",
   "execution_count": 219,
   "metadata": {},
   "outputs": [],
   "source": [
    "stable_ndx=df_test_stable_results.index"
   ]
  },
  {
   "cell_type": "code",
   "execution_count": 220,
   "metadata": {},
   "outputs": [
    {
     "data": {
      "text/plain": [
       "A       393.0\n",
       "A91B      0.0\n",
       "A82B      0.0\n",
       "A73B      0.0\n",
       "A64B      0.0\n",
       "A55B      0.0\n",
       "A46B      0.0\n",
       "A37B      0.0\n",
       "A28B      0.0\n",
       "A19B      0.0\n",
       "B       393.0\n",
       "dtype: float64"
      ]
     },
     "execution_count": 220,
     "metadata": {},
     "output_type": "execute_result"
    }
   ],
   "source": [
    "df_test_all_results[stab_vec_list].iloc[stable_ndx].sum()"
   ]
  },
  {
   "cell_type": "code",
   "execution_count": 221,
   "metadata": {},
   "outputs": [],
   "source": [
    "df_test_all_results.iloc[stable_ndx]=df_test_stable_results\n"
   ]
  },
  {
   "cell_type": "code",
   "execution_count": 222,
   "metadata": {},
   "outputs": [
    {
     "data": {
      "text/plain": [
       "A       393.0\n",
       "A91B     86.0\n",
       "A82B     80.0\n",
       "A73B    223.0\n",
       "A64B     85.0\n",
       "A55B    229.0\n",
       "A46B     63.0\n",
       "A37B    181.0\n",
       "A28B    136.0\n",
       "A19B     49.0\n",
       "B       393.0\n",
       "dtype: float64"
      ]
     },
     "execution_count": 222,
     "metadata": {},
     "output_type": "execute_result"
    }
   ],
   "source": [
    "df_test_all_results[stab_vec_list].iloc[stable_ndx].sum()"
   ]
  },
  {
   "cell_type": "code",
   "execution_count": 223,
   "metadata": {},
   "outputs": [
    {
     "data": {
      "text/plain": [
       "A       749.0\n",
       "A91B     86.0\n",
       "A82B     80.0\n",
       "A73B    223.0\n",
       "A64B     85.0\n",
       "A55B    229.0\n",
       "A46B     63.0\n",
       "A37B    181.0\n",
       "A28B    136.0\n",
       "A19B     49.0\n",
       "B       749.0\n",
       "dtype: float64"
      ]
     },
     "execution_count": 223,
     "metadata": {},
     "output_type": "execute_result"
    }
   ],
   "source": [
    "df_test_all_results[stab_vec_list].sum()"
   ]
  },
  {
   "cell_type": "code",
   "execution_count": 224,
   "metadata": {},
   "outputs": [],
   "source": [
    "path_write=os.path.join(path_f_1, 'test_data_predictions.csv')\n",
    "df_test_all_results.to_csv(path_write)"
   ]
  },
  {
   "cell_type": "code",
   "execution_count": 235,
   "metadata": {},
   "outputs": [
    {
     "data": {
      "text/plain": [
       "0.0    359\n",
       "3.0    131\n",
       "2.0    109\n",
       "4.0     76\n",
       "1.0     40\n",
       "5.0     29\n",
       "6.0      3\n",
       "7.0      2\n",
       "dtype: int64"
      ]
     },
     "execution_count": 235,
     "metadata": {},
     "output_type": "execute_result"
    }
   ],
   "source": [
    "df_test_all_results[stab_vec_list[1:-1]].sum(axis=1).value_counts()"
   ]
  },
  {
   "cell_type": "code",
   "execution_count": 232,
   "metadata": {},
   "outputs": [
    {
     "data": {
      "text/plain": [
       "<matplotlib.axes._subplots.AxesSubplot at 0x1a0b45eeb8>"
      ]
     },
     "execution_count": 232,
     "metadata": {},
     "output_type": "execute_result"
    },
    {
     "data": {
      "image/png": "[encoded data removed]",
      "text/plain": [
       "<matplotlib.figure.Figure at 0x1a0d5efe80>"
      ]
     },
     "metadata": {},
     "output_type": "display_data"
    }
   ],
   "source": [
    "df_test_all_results[stab_vec_list[1:-1]].sum(axis=1).hist(bins=100)"
   ]
  },
  {
   "cell_type": "code",
   "execution_count": null,
   "metadata": {},
   "outputs": [],
   "source": []
  }
 ],
 "metadata": {
  "kernelspec": {
   "display_name": "Python 3",
   "language": "python",
   "name": "python3"
  },
  "language_info": {
   "codemirror_mode": {
    "name": "ipython",
    "version": 3
   },
   "file_extension": ".py",
   "mimetype": "text/x-python",
   "name": "python",
   "nbconvert_exporter": "python",
   "pygments_lexer": "ipython3",
   "version": "3.6.4"
  }
 },
 "nbformat": 4,
 "nbformat_minor": 2
}
